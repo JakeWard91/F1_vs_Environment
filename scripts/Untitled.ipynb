{
 "cells": [
  {
   "cell_type": "code",
   "execution_count": 1,
   "id": "d4ba293e-6e1c-413d-9a5a-0d0206cadb45",
   "metadata": {},
   "outputs": [],
   "source": [
    "import requests\n",
    "import matplotlib.pyplot as plt\n",
    "import json\n",
    "import pandas as pd"
   ]
  },
  {
   "cell_type": "code",
   "execution_count": 2,
   "id": "27c58403-1ec4-4486-aa18-aa345eaecf4b",
   "metadata": {},
   "outputs": [],
   "source": [
    "def url_to_df(url):\n",
    "    endpoint = url\n",
    "    response = requests.get(endpoint)\n",
    "    response\n",
    "    if response.status_code == 200:\n",
    "        F1 = response.json()\n",
    "        F1_df = pd.DataFrame(F1)\n",
    "    else: print(response.status_code)\n",
    "    return F1_df"
   ]
  },
  {
   "cell_type": "code",
   "execution_count": 3,
   "id": "fee8d7b7-628c-4f18-9df8-53e6ba9a0a23",
   "metadata": {},
   "outputs": [],
   "source": [
    "def url_to_df_in_chunks(base_url, max_pages=None, params=None):\n",
    "    all_data = []\n",
    "    page = 1\n",
    "    params = params or {}  # default to empty dict if None\n",
    "\n",
    "    while True:\n",
    "        params.update({'start': page})  # or 'offset'/'start', depending on API\n",
    "        try:\n",
    "            response = requests.get(base_url, params=params)\n",
    "            response.raise_for_status()\n",
    "            data = response.json()\n",
    "\n",
    "            # Stop if empty (no more pages)\n",
    "            if not data:\n",
    "                break\n",
    "\n",
    "            all_data.extend(data)  # Append this page’s data\n",
    "\n",
    "            page += 1\n",
    "            if max_pages and page > max_pages:\n",
    "                break\n",
    "        except requests.exceptions.RequestException as err:\n",
    "            print(f\"Request failed on page {page}: {err}\")\n",
    "            break\n",
    "        except ValueError as json_err:\n",
    "            print(f\"JSON error on page {page}: {json_err}\")\n",
    "            break\n",
    "\n",
    "    return pd.DataFrame(all_data)"
   ]
  },
  {
   "cell_type": "code",
   "execution_count": null,
   "id": "f8a17ab4-2679-48bc-93ed-f485442dfc2d",
   "metadata": {},
   "outputs": [],
   "source": [
    "monaco23 = url_to_df('https://api.openf1.org/v1/car_data?session_key=9094&driver_number=4')\n",
    "monaco23"
   ]
  },
  {
   "cell_type": "code",
   "execution_count": null,
   "id": "c285d33b-a349-478b-af28-e116b0158e21",
   "metadata": {},
   "outputs": [],
   "source": [
    "monaco23['date'] = pd.to_datetime(monaco23['date'],format='ISO8601')\n",
    "monaco23['date'] = monaco23['date'].dt.strftime('%Y-%m-%d %H:%M:%S')\n",
    "monaco23 = monaco23[monaco23.date > '2023-05-28 13:01:0000+00:00']\n",
    "monaco23 = monaco23[monaco23.date < '2023-05-28 14:53:0000+00:00']\n",
    "monaco23"
   ]
  },
  {
   "cell_type": "code",
   "execution_count": null,
   "id": "c2b5d676-70fa-45f6-9e8e-68ce2e44b4fe",
   "metadata": {},
   "outputs": [],
   "source": [
    "lando_laps = pd.read_csv('../data/laps_lando_api.csv')\n",
    "lando_laps = lando_laps[['session_key','date_start','driver_number','lap_number']]\n",
    "lando_laps = lando_laps.rename(columns = {'date_start':'date'})\n",
    "lando_laps = lando_laps[lando_laps.session_key == 9094]\n",
    "lando_laps"
   ]
  },
  {
   "cell_type": "code",
   "execution_count": null,
   "id": "178d0985-df52-4bd0-b3eb-66c4a0167848",
   "metadata": {},
   "outputs": [],
   "source": [
    "monaco = monaco23.merge(lando_laps, on = ['session_key','date','driver_number'], how='left')\n",
    "monaco.head(60)"
   ]
  },
  {
   "cell_type": "code",
   "execution_count": null,
   "id": "caf3413d-caa0-44b0-ba9f-8c64f9c48a95",
   "metadata": {},
   "outputs": [],
   "source": [
    "monaco = monaco.drop(columns = 'meeting_key')\n",
    "monaco"
   ]
  },
  {
   "cell_type": "code",
   "execution_count": null,
   "id": "55ac0503-de91-46e1-a0c9-78d2f59bf8e5",
   "metadata": {},
   "outputs": [],
   "source": [
    "monaco_loc = url_to_df('https://api.openf1.org/v1/location?session_key=9094&driver_number=4')\n",
    "monaco_loc"
   ]
  },
  {
   "cell_type": "code",
   "execution_count": null,
   "id": "a5c88338-ca32-4ddc-8918-54044fa0d355",
   "metadata": {},
   "outputs": [],
   "source": [
    "monaco_loc['date'] = pd.to_datetime(monaco_loc['date'],format='ISO8601')\n",
    "monaco_loc['date'] = monaco_loc['date'].dt.strftime('%Y-%m-%d %H:%M:%S')\n",
    "monaco_loc = monaco_loc.drop(columns = ['z','meeting_key'])\n",
    "monaco_loc"
   ]
  },
  {
   "cell_type": "code",
   "execution_count": null,
   "id": "8f41a0fb-381a-4f56-ac33-69dd989d63e7",
   "metadata": {},
   "outputs": [],
   "source": [
    "monaco_loc.to_csv('../data/clean/mon_loc.csv')"
   ]
  },
  {
   "cell_type": "code",
   "execution_count": null,
   "id": "ad17a0e0-9b0b-40a8-ab8b-1a3d2cb1ba81",
   "metadata": {},
   "outputs": [],
   "source": [
    "monaco.to_csv('../data/clean/monaco1.csv')"
   ]
  },
  {
   "cell_type": "code",
   "execution_count": null,
   "id": "4cc4eabb-2048-42d8-8c93-39eac36e77e6",
   "metadata": {},
   "outputs": [],
   "source": []
  }
 ],
 "metadata": {
  "kernelspec": {
   "display_name": "Python [conda env:base] *",
   "language": "python",
   "name": "conda-base-py"
  },
  "language_info": {
   "codemirror_mode": {
    "name": "ipython",
    "version": 3
   },
   "file_extension": ".py",
   "mimetype": "text/x-python",
   "name": "python",
   "nbconvert_exporter": "python",
   "pygments_lexer": "ipython3",
   "version": "3.12.7"
  }
 },
 "nbformat": 4,
 "nbformat_minor": 5
}
