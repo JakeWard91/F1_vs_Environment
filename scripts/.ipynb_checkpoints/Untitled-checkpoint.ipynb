{
 "cells": [
  {
   "cell_type": "code",
   "execution_count": 2,
   "id": "d4ba293e-6e1c-413d-9a5a-0d0206cadb45",
   "metadata": {},
   "outputs": [],
   "source": [
    "import requests\n",
    "import matplotlib.pyplot as plt\n",
    "import json\n",
    "import pandas as pd"
   ]
  },
  {
   "cell_type": "code",
   "execution_count": 4,
   "id": "27c58403-1ec4-4486-aa18-aa345eaecf4b",
   "metadata": {},
   "outputs": [],
   "source": [
    "def url_to_df(url):\n",
    "    endpoint = url\n",
    "    response = requests.get(endpoint)\n",
    "    response\n",
    "    if response.status_code == 200:\n",
    "        F1 = response.json()\n",
    "        F1_df = pd.DataFrame(F1)\n",
    "    else: print(response.status_code)\n",
    "    return F1_df"
   ]
  },
  {
   "cell_type": "code",
   "execution_count": 8,
   "id": "f8a17ab4-2679-48bc-93ed-f485442dfc2d",
   "metadata": {},
   "outputs": [
    {
     "name": "stdout",
     "output_type": "stream",
     "text": [
      "500\n"
     ]
    },
    {
     "ename": "UnboundLocalError",
     "evalue": "cannot access local variable 'F1_df' where it is not associated with a value",
     "output_type": "error",
     "traceback": [
      "\u001b[1;31m---------------------------------------------------------------------------\u001b[0m",
      "\u001b[1;31mUnboundLocalError\u001b[0m                         Traceback (most recent call last)",
      "Cell \u001b[1;32mIn[8], line 1\u001b[0m\n\u001b[1;32m----> 1\u001b[0m car_data \u001b[38;5;241m=\u001b[39m url_to_df(\u001b[38;5;124m'\u001b[39m\u001b[38;5;124mhttps://api.openf1.org/v1/car_data?driver_number=4?date_start>=2023-01-01&date_end<=2024-12-31\u001b[39m\u001b[38;5;124m'\u001b[39m)\n",
      "Cell \u001b[1;32mIn[4], line 9\u001b[0m, in \u001b[0;36murl_to_df\u001b[1;34m(url)\u001b[0m\n\u001b[0;32m      7\u001b[0m     F1_df \u001b[38;5;241m=\u001b[39m pd\u001b[38;5;241m.\u001b[39mDataFrame(F1)\n\u001b[0;32m      8\u001b[0m \u001b[38;5;28;01melse\u001b[39;00m: \u001b[38;5;28mprint\u001b[39m(response\u001b[38;5;241m.\u001b[39mstatus_code)\n\u001b[1;32m----> 9\u001b[0m \u001b[38;5;28;01mreturn\u001b[39;00m F1_df\n",
      "\u001b[1;31mUnboundLocalError\u001b[0m: cannot access local variable 'F1_df' where it is not associated with a value"
     ]
    }
   ],
   "source": [
    "car_data = url_to_df('https://api.openf1.org/v1/car_data?driver_number=4?date_start>=2023-01-01&date_end<=2024-12-31')"
   ]
  },
  {
   "cell_type": "code",
   "execution_count": null,
   "id": "8f41a0fb-381a-4f56-ac33-69dd989d63e7",
   "metadata": {},
   "outputs": [],
   "source": []
  }
 ],
 "metadata": {
  "kernelspec": {
   "display_name": "Python [conda env:base] *",
   "language": "python",
   "name": "conda-base-py"
  },
  "language_info": {
   "codemirror_mode": {
    "name": "ipython",
    "version": 3
   },
   "file_extension": ".py",
   "mimetype": "text/x-python",
   "name": "python",
   "nbconvert_exporter": "python",
   "pygments_lexer": "ipython3",
   "version": "3.12.7"
  }
 },
 "nbformat": 4,
 "nbformat_minor": 5
}
